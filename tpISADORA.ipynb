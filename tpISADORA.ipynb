{
 "cells": [
  {
   "cell_type": "markdown",
   "metadata": {},
   "source": [
    "# Trabalho Prático 2 - Introdução à Computação Visual "
   ]
  },
  {
   "cell_type": "markdown",
   "metadata": {},
   "source": [
    "### Isadora Cristina"
   ]
  },
  {
   "cell_type": "code",
   "execution_count": 1,
   "metadata": {},
   "outputs": [],
   "source": [
    "import numpy as np\n",
    "import matplotlib.pyplot as plt\n",
    "import numpy as np\n",
    "import OpenGL.GLU as glu\n",
    "import OpenGL.GL as gl\n",
    "import OpenGL.GLUT as glut\n",
    "import cv2"
   ]
  },
  {
   "cell_type": "markdown",
   "metadata": {},
   "source": [
    "### 1. Calibração da câmera"
   ]
  },
  {
   "cell_type": "code",
   "execution_count": 2,
   "metadata": {},
   "outputs": [],
   "source": [
    "# A calibração da câmera foi feita pelo Matlab \n",
    "# De forma semelhante à atividade prática, foi usada a ferramenta \"Camera Calibration Toolbox for Matlab\"\n",
    "# Link do tutorial usado: http://www.vision.caltech.edu/bouguetj/calib_doc/htmls/example.html\n",
    "# Como foi passado um vídeo, foram retirados deles frames em momentos arbitrários\n",
    "# Assim, obtivemos sobre os parâmetros:\n",
    "\n",
    "# focal length\n",
    "foc_len = [884.21764, 895.52706]\n",
    "# principal point\n",
    "prin_pon = [511.15701, 389.61393]\n",
    "# distortion\n",
    "distortion = [0.07162, -0.21749, -0.01365, 0.00146, 0.0]"
   ]
  },
  {
   "cell_type": "code",
   "execution_count": 3,
   "metadata": {},
   "outputs": [
    {
     "data": {
      "text/plain": [
       "array([[884.21764,   0.     , 320.     ],\n",
       "       [  0.     , 895.52706, 240.     ],\n",
       "       [  0.     ,   0.     ,   1.     ]])"
      ]
     },
     "execution_count": 3,
     "metadata": {},
     "output_type": "execute_result"
    }
   ],
   "source": [
    "# Agora podemos criar a matriz de parâmetros intrínsecos\n",
    "mat_int = np.array([[foc_len[0], 0.0, 320], [0.0, foc_len[1], 240], [0.0, 0.0, 1.0]])\n",
    "\n",
    "mat_int"
   ]
  },
  {
   "cell_type": "markdown",
   "metadata": {},
   "source": [
    "### 2. Detecção e Localização da Posição e Orientação do Alvo em cada Frame "
   ]
  },
  {
   "cell_type": "code",
   "execution_count": 4,
   "metadata": {},
   "outputs": [
    {
     "name": "stdout",
     "output_type": "stream",
     "text": [
      "Quantidade de frames obtidos: 1100\n"
     ]
    }
   ],
   "source": [
    "# Leitura do vídeo de entrada\n",
    "video = cv2.VideoCapture('entrada.mp4')\n",
    "frames = []\n",
    "# Obtenção dos frames\n",
    "while video.isOpened():\n",
    "    ret, frame = video.read()\n",
    "    if ret == False:\n",
    "        break\n",
    "    else:\n",
    "        frames.append(frame)\n",
    "        \n",
    "print(\"Quantidade de frames obtidos:\", len(frames))"
   ]
  },
  {
   "cell_type": "code",
   "execution_count": 5,
   "metadata": {},
   "outputs": [
    {
     "data": {
      "image/png": "[encoded data removed]",
      "text/plain": [
       "<Figure size 216x216 with 1 Axes>"
      ]
     },
     "metadata": {},
     "output_type": "display_data"
    }
   ],
   "source": [
    "# Agora vamos ler o alvo\n",
    "target = cv2.imread('alvo.jpg', 0)\n",
    "\n",
    "# Binarizamos o alvo para facilitar o processamento\n",
    "_, target = cv2.threshold(target, 80, 255, cv2.THRESH_BINARY)\n",
    "\n",
    "plt.figure(figsize = (3,3))\n",
    "plt.imshow(target, cmap='gray'); \n",
    "plt.title('0º')\n",
    "plt.xticks([]); \n",
    "plt.yticks([])\n",
    "plt.show()"
   ]
  },
  {
   "cell_type": "code",
   "execution_count": 6,
   "metadata": {},
   "outputs": [
    {
     "data": {
      "text/plain": [
       "([], [])"
      ]
     },
     "execution_count": 6,
     "metadata": {},
     "output_type": "execute_result"
    },
    {
     "data": {
      "image/png": "[encoded data removed]",
      "text/plain": [
       "<Figure size 216x216 with 1 Axes>"
      ]
     },
     "metadata": {},
     "output_type": "display_data"
    },
    {
     "data": {
      "image/png": "[encoded data removed]",
      "text/plain": [
       "<Figure size 216x216 with 1 Axes>"
      ]
     },
     "metadata": {},
     "output_type": "display_data"
    },
    {
     "data": {
      "image/png": "[encoded data removed]",
      "text/plain": [
       "<Figure size 216x216 with 1 Axes>"
      ]
     },
     "metadata": {},
     "output_type": "display_data"
    }
   ],
   "source": [
    "# Com o alvo em mãos, vamos achar as suas rotações de 90°\n",
    "target90 = cv2.rotate(target, cv2.ROTATE_90_CLOCKWISE) # 90°\n",
    "target180 = cv2.rotate(target, cv2.ROTATE_180) # 180°\n",
    "target270 = cv2.rotate(target, cv2.ROTATE_90_COUNTERCLOCKWISE) # 270°\n",
    "\n",
    "plt.figure(figsize = (3,3))\n",
    "plt.imshow(target90, cmap='gray')\n",
    "plt.title('90º')\n",
    "plt.xticks([]); \n",
    "plt.yticks([])\n",
    "plt.figure(figsize = (3,3))\n",
    "plt.imshow(target180, cmap='gray')\n",
    "plt.title('180º')\n",
    "plt.xticks([]); \n",
    "plt.yticks([])\n",
    "plt.figure(figsize = (3,3))\n",
    "plt.imshow(target270, cmap='gray')\n",
    "plt.title('270º')\n",
    "plt.xticks([]); \n",
    "plt.yticks([])"
   ]
  },
  {
   "cell_type": "code",
   "execution_count": 7,
   "metadata": {},
   "outputs": [],
   "source": [
    "# Definimos coordenadas arbitrárias de forma a indetificar cada orientação\n",
    "p1 = [-1, -1, 0]\n",
    "p2 = [1, -1, 0]\n",
    "p3 = [1, 1, 0]\n",
    "p4 = [-1, 1, 0]\n",
    "\n",
    "coords = []\n",
    "\n",
    "coords.append(np.float32([p1, p2, p3, p4])) # 90°\n",
    "coords.append(np.float32([p4, p1, p2, p3])) # 0°\n",
    "coords.append(np.float32([p3, p4, p1, p2])) # 270°\n",
    "coords.append(np.float32([p2, p3, p4, p1])) # 180°"
   ]
  },
  {
   "cell_type": "code",
   "execution_count": 21,
   "metadata": {},
   "outputs": [
    {
     "data": {
      "image/png": "[encoded data removed]",
      "text/plain": [
       "<Figure size 288x288 with 1 Axes>"
      ]
     },
     "metadata": {},
     "output_type": "display_data"
    }
   ],
   "source": [
    "# Para efeito de visualização de como os frames serão tratador\n",
    "# Vamos fazer cada passo com apenas 1 frame e plotar os resultados\n",
    "# Queremos destacar os contornos para achar polígonos em seguida\n",
    "def treat_color(frame):\n",
    "    # Deixamos cada frame com tons de cinza\n",
    "    frame = cv2.cvtColor(frame, cv2.COLOR_BGR2GRAY)\n",
    "    # Fazemos a binarização\n",
    "    _, frame = cv2.threshold(frame, 127, 255, cv2.THRESH_BINARY)\n",
    "    # Extraímos as bordas\n",
    "    frame = cv2.Canny(frame, 60, 100)\n",
    "    # Encontra os contornos    \n",
    "    contour, _ = cv2.findContours(frame, cv2.RETR_EXTERNAL, cv2.CHAIN_APPROX_NONE)\n",
    "    return frame, contour\n",
    "\n",
    "sample, contours = treat_color(frames[10])\n",
    "\n",
    "plt.figure(figsize = (4,4))\n",
    "plt.imshow(sample,cmap = 'gray')\n",
    "plt.xticks([]); \n",
    "plt.yticks([])\n",
    "plt.show()"
   ]
  },
  {
   "cell_type": "code",
   "execution_count": 32,
   "metadata": {},
   "outputs": [
    {
     "data": {
      "text/plain": [
       "[array([[[ 81,  61]],\n",
       " \n",
       "        [[ 81, 418]],\n",
       " \n",
       "        [[558, 418]],\n",
       " \n",
       "        [[557,  60]]], dtype=int32)]"
      ]
     },
     "execution_count": 32,
     "metadata": {},
     "output_type": "execute_result"
    }
   ],
   "source": [
    "# Com os contorno obtidos, seguimos para fazer a identificação de polígonos\n",
    "def find_polygons(frame, contours):\n",
    "    tetra = []\n",
    "    # Criamos poligono com os contorno obtidos na função acima\n",
    "    for contour in contours:\n",
    "        perimeter = cv2.arcLength(contour, True)\n",
    "        polygon = cv2.approxPolyDP(contour, 0.015*perimeter, True)\n",
    "        if len(polygon) == 4 and cv2.isContourConvex(polygon):\n",
    "            tetra.append(polygon)\n",
    "    return tetra    \n",
    "\n",
    "tetra = find_polygons(frame, contours)\n",
    "tetra"
   ]
  },
  {
   "cell_type": "code",
   "execution_count": null,
   "metadata": {},
   "outputs": [],
   "source": [
    "# Agora vamos achar a matriz de homografia "
   ]
  },
  {
   "cell_type": "markdown",
   "metadata": {},
   "source": [
    "### 3."
   ]
  },
  {
   "cell_type": "code",
   "execution_count": null,
   "metadata": {},
   "outputs": [],
   "source": []
  },
  {
   "cell_type": "code",
   "execution_count": null,
   "metadata": {},
   "outputs": [],
   "source": []
  },
  {
   "cell_type": "markdown",
   "metadata": {},
   "source": [
    "### 4."
   ]
  },
  {
   "cell_type": "code",
   "execution_count": null,
   "metadata": {},
   "outputs": [],
   "source": []
  }
 ],
 "metadata": {
  "colab": {
   "name": "Exemplo PyClustering.ipynb",
   "provenance": [],
   "toc_visible": true
  },
  "kernelspec": {
   "display_name": "Python 3",
   "language": "python",
   "name": "python3"
  },
  "language_info": {
   "codemirror_mode": {
    "name": "ipython",
    "version": 3
   },
   "file_extension": ".py",
   "mimetype": "text/x-python",
   "name": "python",
   "nbconvert_exporter": "python",
   "pygments_lexer": "ipython3",
   "version": "3.8.3"
  }
 },
 "nbformat": 4,
 "nbformat_minor": 1
}

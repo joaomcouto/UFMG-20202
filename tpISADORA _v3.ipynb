{
 "cells": [
  {
   "cell_type": "markdown",
   "metadata": {},
   "source": [
    "# Trabalho Prático 2 - Introdução à Computação Visual "
   ]
  },
  {
   "cell_type": "code",
   "execution_count": null,
   "metadata": {},
   "outputs": [],
   "source": []
  },
  {
   "cell_type": "code",
   "execution_count": null,
   "metadata": {},
   "outputs": [],
   "source": []
  },
  {
   "cell_type": "markdown",
   "metadata": {},
   "source": [
    "### Isadora Cristina"
   ]
  },
  {
   "cell_type": "code",
   "execution_count": 1,
   "metadata": {},
   "outputs": [
    {
     "name": "stdout",
     "output_type": "stream",
     "text": [
      "pygame 2.0.1 (SDL 2.0.14, Python 3.8.3)\n",
      "Hello from the pygame community. https://www.pygame.org/contribute.html\n"
     ]
    }
   ],
   "source": [
    "import numpy as np\n",
    "import matplotlib.pyplot as plt\n",
    "import numpy as np\n",
    "import OpenGL.GLU as glu\n",
    "import OpenGL.GL as gl\n",
    "import OpenGL.GLUT as glut\n",
    "import cv2\n",
    "from objloader import *"
   ]
  },
  {
   "cell_type": "markdown",
   "metadata": {},
   "source": [
    "### 1. Calibração da câmera"
   ]
  },
  {
   "cell_type": "code",
   "execution_count": 2,
   "metadata": {},
   "outputs": [],
   "source": [
    "# A calibração da câmera foi feita pelo Matlab \n",
    "# De forma semelhante à atividade prática, foi usada a ferramenta \"Camera Calibration Toolbox for Matlab\"\n",
    "# Link do tutorial usado: http://www.vision.caltech.edu/bouguetj/calib_doc/htmls/example.html\n",
    "# Como foi passado um vídeo, foram retirados deles frames em momentos arbitrários\n",
    "# Assim, obtivemos sobre os parâmetros:\n",
    "\n",
    "# focal length\n",
    "foc_len = [884.21764, 895.52706]\n",
    "# principal point\n",
    "prin_pon = [511.15701, 389.61393]\n",
    "# distortion\n",
    "distortion = [0.07162, -0.21749, -0.01365, 0.00146, 0.0]"
   ]
  },
  {
   "cell_type": "code",
   "execution_count": 3,
   "metadata": {},
   "outputs": [
    {
     "data": {
      "text/plain": [
       "array([[884.21764,   0.     , 320.     ],\n",
       "       [  0.     , 895.52706, 240.     ],\n",
       "       [  0.     ,   0.     ,   1.     ]])"
      ]
     },
     "execution_count": 3,
     "metadata": {},
     "output_type": "execute_result"
    }
   ],
   "source": [
    "# Agora podemos criar a matriz de parâmetros intrínsecos\n",
    "mat_int = np.array([[foc_len[0], 0.0, 320], [0.0, foc_len[1], 240], [0.0, 0.0, 1.0]])\n",
    "\n",
    "mat_int"
   ]
  },
  {
   "cell_type": "markdown",
   "metadata": {},
   "source": [
    "### 2. Detecção e Localização da Posição e Orientação do Alvo em cada Frame "
   ]
  },
  {
   "cell_type": "code",
   "execution_count": 4,
   "metadata": {},
   "outputs": [
    {
     "name": "stdout",
     "output_type": "stream",
     "text": [
      "Quantidade de frames obtidos: 1100\n"
     ]
    }
   ],
   "source": [
    "# Leitura do vídeo de entrada\n",
    "video = cv2.VideoCapture('entrada.mp4')\n",
    "frames = []\n",
    "# Obtenção dos frames\n",
    "while video.isOpened():\n",
    "    ret, frame = video.read()\n",
    "    if ret == False:\n",
    "        break\n",
    "    else:\n",
    "        frames.append(frame)\n",
    "        \n",
    "print(\"Quantidade de frames obtidos:\", len(frames))"
   ]
  },
  {
   "cell_type": "code",
   "execution_count": 5,
   "metadata": {},
   "outputs": [
    {
     "data": {
      "image/png": "[encoded data removed]",
      "text/plain": [
       "<Figure size 216x216 with 1 Axes>"
      ]
     },
     "metadata": {},
     "output_type": "display_data"
    }
   ],
   "source": [
    "# Agora vamos ler o alvo\n",
    "target0 = cv2.imread('alvo.jpg', 0)\n",
    "\n",
    "# Binarizamos o alvo para facilitar o processamento\n",
    "_, target0 = cv2.threshold(target0, 80, 255, cv2.THRESH_BINARY)\n",
    "\n",
    "plt.figure(figsize = (3,3))\n",
    "plt.imshow(target0, cmap='gray'); \n",
    "plt.title('0º')\n",
    "plt.xticks([]); \n",
    "plt.yticks([])\n",
    "plt.show()"
   ]
  },
  {
   "cell_type": "code",
   "execution_count": 6,
   "metadata": {},
   "outputs": [
    {
     "data": {
      "text/plain": [
       "([], [])"
      ]
     },
     "execution_count": 6,
     "metadata": {},
     "output_type": "execute_result"
    },
    {
     "data": {
      "image/png": "[encoded data removed]",
      "text/plain": [
       "<Figure size 216x216 with 1 Axes>"
      ]
     },
     "metadata": {},
     "output_type": "display_data"
    },
    {
     "data": {
      "image/png": "[encoded data removed]",
      "text/plain": [
       "<Figure size 216x216 with 1 Axes>"
      ]
     },
     "metadata": {},
     "output_type": "display_data"
    },
    {
     "data": {
      "image/png": "[encoded data removed]",
      "text/plain": [
       "<Figure size 216x216 with 1 Axes>"
      ]
     },
     "metadata": {},
     "output_type": "display_data"
    }
   ],
   "source": [
    "# Com o alvo em mãos, vamos achar as suas rotações de 90°\n",
    "target90 = cv2.rotate(target0, cv2.ROTATE_90_CLOCKWISE) # 90°\n",
    "target180 = cv2.rotate(target0, cv2.ROTATE_180) # 180°\n",
    "target270 = cv2.rotate(target0, cv2.ROTATE_90_COUNTERCLOCKWISE) # 270°\n",
    "\n",
    "plt.figure(figsize = (3,3))\n",
    "plt.imshow(target90, cmap='gray')\n",
    "plt.title('90º')\n",
    "plt.xticks([]); \n",
    "plt.yticks([])\n",
    "plt.figure(figsize = (3,3))\n",
    "plt.imshow(target180, cmap='gray')\n",
    "plt.title('180º')\n",
    "plt.xticks([]); \n",
    "plt.yticks([])\n",
    "plt.figure(figsize = (3,3))\n",
    "plt.imshow(target270, cmap='gray')\n",
    "plt.title('270º')\n",
    "plt.xticks([]); \n",
    "plt.yticks([])"
   ]
  },
  {
   "cell_type": "code",
   "execution_count": 7,
   "metadata": {},
   "outputs": [],
   "source": [
    "# Definimos coordenadas arbitrárias de forma a indetificar cada orientação\n",
    "p1 = [-1, -1, 0]\n",
    "p2 = [1, -1, 0]\n",
    "p3 = [1, 1, 0]\n",
    "p4 = [-1, 1, 0]\n",
    "\n",
    "coords = []\n",
    "\n",
    "coords.append(np.float32([p4, p1, p2, p3])) # 0°\n",
    "coords.append(np.float32([p1, p2, p3, p4])) # 90°\n",
    "coords.append(np.float32([p2, p3, p4, p1])) # 180°\n",
    "coords.append(np.float32([p3, p4, p1, p2])) # 270°\n",
    "\n",
    "# Criamos uma lista com os targets para facilitar\n",
    "targets = []\n",
    "\n",
    "targets.append(target0)\n",
    "targets.append(target90)\n",
    "targets.append(target180)\n",
    "targets.append(target270)"
   ]
  },
  {
   "cell_type": "code",
   "execution_count": 8,
   "metadata": {},
   "outputs": [
    {
     "data": {
      "image/png": "[encoded data removed]",
      "text/plain": [
       "<Figure size 288x288 with 1 Axes>"
      ]
     },
     "metadata": {},
     "output_type": "display_data"
    }
   ],
   "source": [
    "# Para efeito de visualização de como os frames serão tratador\n",
    "# Vamos fazer cada passo com apenas 1 frame e plotar os resultados\n",
    "# Queremos destacar os contornos para achar polígonos em seguida\n",
    "def treat_color(frame):\n",
    "    # Deixamos cada frame com tons de cinza\n",
    "    gray = cv2.cvtColor(frame, cv2.COLOR_BGR2GRAY)\n",
    "    # Fazemos a binarização\n",
    "    _, binary = cv2.threshold(gray, 127, 255, cv2.THRESH_BINARY)\n",
    "    # Extraímos as bordas\n",
    "    frame = cv2.Canny(binary, 60, 100)\n",
    "    # Encontra os contornos    \n",
    "    contour, _ = cv2.findContours(frame, cv2.RETR_EXTERNAL, cv2.CHAIN_APPROX_NONE)\n",
    "    return frame, contour, gray, binary\n",
    "\n",
    "sample, contours, gray, binary = treat_color(frames[7])\n",
    "\n",
    "plt.figure(figsize = (4,4))\n",
    "plt.imshow(sample,cmap = 'gray')\n",
    "plt.xticks([]); \n",
    "plt.yticks([])\n",
    "plt.show()"
   ]
  },
  {
   "cell_type": "code",
   "execution_count": 9,
   "metadata": {},
   "outputs": [
    {
     "data": {
      "text/plain": [
       "[array([[[419, 280]],\n",
       " \n",
       "        [[391, 318]],\n",
       " \n",
       "        [[437, 351]],\n",
       " \n",
       "        [[465, 312]]], dtype=int32),\n",
       " array([[[183, 223]],\n",
       " \n",
       "        [[142, 233]],\n",
       " \n",
       "        [[143, 271]],\n",
       " \n",
       "        [[186, 261]]], dtype=int32),\n",
       " array([[[340, 176]],\n",
       " \n",
       "        [[340, 178]],\n",
       " \n",
       "        [[342, 178]],\n",
       " \n",
       "        [[342, 176]]], dtype=int32),\n",
       " array([[[324, 155]],\n",
       " \n",
       "        [[324, 157]],\n",
       " \n",
       "        [[326, 157]],\n",
       " \n",
       "        [[326, 155]]], dtype=int32),\n",
       " array([[[373,  91]],\n",
       " \n",
       "        [[346, 128]],\n",
       " \n",
       "        [[386, 146]],\n",
       " \n",
       "        [[411, 109]]], dtype=int32)]"
      ]
     },
     "execution_count": 9,
     "metadata": {},
     "output_type": "execute_result"
    }
   ],
   "source": [
    "# Com os contorno obtidos, seguimos para fazer a identificação de polígonos\n",
    "def find_polygons(frame, contours):\n",
    "    tetra = []\n",
    "    # Criamos poligono com os contorno obtidos na função acima\n",
    "    for contour in contours:\n",
    "        perimeter = cv2.arcLength(contour, True)\n",
    "        polygon = cv2.approxPolyDP(contour, 0.015*perimeter, True)\n",
    "        if len(polygon) == 4 and cv2.isContourConvex(polygon):\n",
    "            tetra.append(polygon)\n",
    "    return tetra\n",
    "\n",
    "tetra = find_polygons(sample, contours)\n",
    "tetra"
   ]
  },
  {
   "cell_type": "code",
   "execution_count": 10,
   "metadata": {},
   "outputs": [],
   "source": [
    "# Agora vamos achar a matriz de homografia\n",
    "def homography(tetras, frame):\n",
    "    height, width = targets[0].shape\n",
    "    corners = np.float32([[0,0], [0, height], [width, height], [width, 0]])\n",
    "    poly = []\n",
    "    direction = []\n",
    "    for tetra in tetras:\n",
    "        m_homography, _ = cv2.findHomography(np.float32(tetra), corners, cv2.RANSAC)\n",
    "        result = cv2.warpPerspective(frame, m_homography, targets[0].shape)           \n",
    "        min_error = 99999\n",
    "        min_position = None\n",
    "\n",
    "        # compara com as 4 orientações do alvo\n",
    "        for i in range(0, len(targets)):\n",
    "            curr = np.sum(np.abs(result - targets[i])) / (result.size)\n",
    "            if curr < min_error:\n",
    "                min_error = curr\n",
    "                min_position = i                  \n",
    "\n",
    "        # Define-se como 'match' os candidatos que obtiveram erro menor do que 20\n",
    "        if min_error <20:\n",
    "            poly.append(tetra)\n",
    "            direction.append(min_position)\n",
    "            \n",
    "    return poly, direction"
   ]
  },
  {
   "cell_type": "code",
   "execution_count": 11,
   "metadata": {},
   "outputs": [
    {
     "data": {
      "text/plain": [
       "<matplotlib.image.AxesImage at 0x7eff6bcc6c10>"
      ]
     },
     "execution_count": 11,
     "metadata": {},
     "output_type": "execute_result"
    },
    {
     "data": {
      "image/png": "[encoded data removed]",
      "text/plain": [
       "<Figure size 432x288 with 1 Axes>"
      ]
     },
     "metadata": {
      "needs_background": "light"
     },
     "output_type": "display_data"
    }
   ],
   "source": [
    "# Vamos testar a detecção  de alvos em um frame\n",
    "poly, direction = homography(tetra, binary)\n",
    "highlight = cv2.drawContours(frames[7], poly, -1, (100,100,255), 3)\n",
    "plt.imshow(highlight)"
   ]
  },
  {
   "cell_type": "code",
   "execution_count": 12,
   "metadata": {},
   "outputs": [],
   "source": [
    "# Enfim, vamos aplicar todos os passos feitos acima para todos os frames\n",
    "poly = []\n",
    "direction = [] \n",
    "\n",
    "for f in frames:\n",
    "    sample, contours, gray, binary = treat_color(f)\n",
    "    tetras = []\n",
    "    tetras = find_polygons(f, contours)\n",
    "   \n",
    "    temp1, temp2 = homography(tetras, binary)\n",
    "    \n",
    "    poly.append(temp1)\n",
    "    direction.append(temp2)\n"
   ]
  },
  {
   "cell_type": "markdown",
   "metadata": {},
   "source": [
    "### 3. Obteção dos Parâmetros Extrínsecos"
   ]
  },
  {
   "cell_type": "code",
   "execution_count": 13,
   "metadata": {},
   "outputs": [],
   "source": [
    "# A função que estima a pose da câmera recebe as coordenadas do alvo que indica sua direção\n",
    "# Dependendo dessa direção, rotacionamos a matriz de destino\n",
    "def find_pose(polygon, direction, coords, mat_int):\n",
    "    if direction == 0:\n",
    "        dst = coords[0]\n",
    "    if direction == 1:\n",
    "        dst = coords[1]\n",
    "    if direction == 2:\n",
    "        dst = coords[2]          \n",
    "    if direction == 3:\n",
    "        dst = coords[3] \n",
    "    # Calibramos a câmera com a matriz de  parâmetros intrínsecos obtida no começo do notebook  \n",
    "    _, v_rotation, v_translation = cv2.solvePnP(dst, np.float32(polygon), mat_int, np.float32(distortion))\n",
    "    # Gera a matriz de rotação pelo retorno da função solvePnP\n",
    "    m_rotation, _ = cv2.Rodrigues(v_rotation)\n",
    "    # Criamos uma matriz identidade\n",
    "    m_id = np.identity(4)\n",
    "    m_id[1, 1], m_id[2, 2] = -1, -1\n",
    "    # A matriz abaixo guarda os locais de posicionamento dos objetos nas cenas\n",
    "    m_pose = np.array([\n",
    "        [rotacao[0][0], rotacao[0][1], rotacao[0][2], translation_vector[0]],\n",
    "        [rotacao[1][0], rotacao[1][1], rotacao[1][2], translation_vector[1]],\n",
    "        [rotacao[2][0], rotacao[2][1], rotacao[2][2], translation_vector[2]],\n",
    "        [0.0, 0.0, 0.0, 1.0]\n",
    "    ])\n",
    "    \n",
    "    m_pose = m_pose @ m_id\n",
    "    \n",
    "    m_pose = np.transpose(m_pose)\n",
    "    \n",
    "    return m_pose    "
   ]
  },
  {
   "cell_type": "markdown",
   "metadata": {},
   "source": [
    "### 4. Renderização"
   ]
  },
  {
   "cell_type": "code",
   "execution_count": 14,
   "metadata": {},
   "outputs": [],
   "source": [
    "# Renderizando o Pikachu\n",
    "def get_pikachu():\n",
    "    obj = OBJ('Pikachu.obj', swapyz=True)\n",
    "    return obj"
   ]
  },
  {
   "cell_type": "code",
   "execution_count": 15,
   "metadata": {},
   "outputs": [],
   "source": [
    "# Inicializando o OpenGL\n",
    "def initOpenGL(dimensions):\n",
    "\n",
    "    (width, height) = dimensions\n",
    "    \n",
    "    glClearColor(0.0, 0.0, 0.0, 0.0)\n",
    "    glClearDepth(1.0)\n",
    "\n",
    "    glEnable(GL_DEPTH_TEST)\n",
    "\n",
    "    glMatrixMode(GL_PROJECTION)\n",
    "    glLoadIdentity()\n",
    " \n",
    "    fovy = 2*np.arctan(0.5*480/mat_int[1,1]) * 180/np.pi\n",
    "    aspect = (float)(640 * mat_int[1,1])/(480 * mat_int[0,0])\n",
    "    gluPerspective(fovy, aspect, 0.1, 100.0)"
   ]
  },
  {
   "cell_type": "code",
   "execution_count": 16,
   "metadata": {},
   "outputs": [],
   "source": [
    "# Criando o background\n",
    "def background(img, dimensions):\n",
    "\n",
    "    width, height = dimensions\n",
    "    # Lendo a textura\n",
    "    textureId = load_background_texture(img)\n",
    "    glDepthMask(GL_FALSE)\n",
    "    \n",
    "    glMatrixMode(GL_PROJECTION)\n",
    "    glPushMatrix()\n",
    "    glLoadIdentity()\n",
    "    gluOrtho2D(0, width, 0, height)\n",
    "    \n",
    "    # Habilitando a textura\n",
    "    glEnable(GL_TEXTURE_2D)\n",
    "    glBindTexture(GL_TEXTURE_2D, textureId)\n",
    "    glMatrixMode(GL_MODELVIEW)\n",
    "    glPushMatrix()\n",
    "\n",
    "    glBegin(GL_QUADS)\n",
    "    glTexCoord2f(0, 0); glVertex2f(0, 0)\n",
    "    glTexCoord2f(1, 0); glVertex2f(width, 0)\n",
    "    glTexCoord2f(1, 1); glVertex2f(width, height)\n",
    "    glTexCoord2f(0, 1); glVertex2f(0, height)\n",
    "    glEnd()\n",
    "    \n",
    "    glPopMatrix()\n",
    "    glMatrixMode(GL_PROJECTION)\n",
    "    glPopMatrix()\n",
    "    glMatrixMode(GL_MODELVIEW)\n",
    "    \n",
    "    glBindTexture(GL_TEXTURE_2D, 0)\n",
    "    glDepthMask(GL_TRUE)\n",
    "    glFlush()  "
   ]
  },
  {
   "cell_type": "code",
   "execution_count": 17,
   "metadata": {},
   "outputs": [
    {
     "ename": "SyntaxError",
     "evalue": "unexpected EOF while parsing (<ipython-input-17-ab46eab4cbbe>, line 1)",
     "output_type": "error",
     "traceback": [
      "\u001b[0;36m  File \u001b[0;32m\"<ipython-input-17-ab46eab4cbbe>\"\u001b[0;36m, line \u001b[0;32m1\u001b[0m\n\u001b[0;31m    def construct_cube(m):\u001b[0m\n\u001b[0m                          ^\u001b[0m\n\u001b[0;31mSyntaxError\u001b[0m\u001b[0;31m:\u001b[0m unexpected EOF while parsing\n"
     ]
    }
   ],
   "source": [
    "def construct_cube(m):\n"
   ]
  },
  {
   "cell_type": "markdown",
   "metadata": {},
   "source": [
    "### 5. Referências"
   ]
  },
  {
   "cell_type": "code",
   "execution_count": null,
   "metadata": {},
   "outputs": [],
   "source": []
  }
 ],
 "metadata": {
  "colab": {
   "name": "Exemplo PyClustering.ipynb",
   "provenance": [],
   "toc_visible": true
  },
  "kernelspec": {
   "display_name": "Python 3",
   "language": "python",
   "name": "python3"
  },
  "language_info": {
   "codemirror_mode": {
    "name": "ipython",
    "version": 3
   },
   "file_extension": ".py",
   "mimetype": "text/x-python",
   "name": "python",
   "nbconvert_exporter": "python",
   "pygments_lexer": "ipython3",
   "version": "3.8.3"
  }
 },
 "nbformat": 4,
 "nbformat_minor": 1
}

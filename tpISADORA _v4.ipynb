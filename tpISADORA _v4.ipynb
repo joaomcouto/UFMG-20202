{
 "cells": [
  {
   "cell_type": "markdown",
   "metadata": {},
   "source": [
    "## Parte 4: Renderização"
   ]
  },
  {
   "cell_type": "code",
   "execution_count": 1,
   "metadata": {},
   "outputs": [],
   "source": [
    "def initOpenGL(dimensions):\n",
    "    width, height = dimensions\n",
    "\n",
    "    gl.glClearColor(0.0, 0.0, 0.0, 0.0)\n",
    "    gl.glClearDepth(1.0)\n",
    "\n",
    "    gl.glEnable(gl.GL_DEPTH_TEST)\n",
    "\n",
    "    gl.glMatrixMode(gl.GL_PROJECTION)\n",
    "    gl.glLoadIdentity()\n",
    "    \n",
    "    K, _ = gera_matriz_parametros_intrinsecos()\n",
    "    ajuste_intrinsecos_camera(width, height, K)"
   ]
  },
  {
   "cell_type": "code",
   "execution_count": 2,
   "metadata": {},
   "outputs": [],
   "source": [
    "def resize_view(width, height, K):\n",
    "    gl.glViewport(0, 0, width, height)\n",
    "\n",
    "    gl.glMatrixMode(gl.GL_PROJECTION)\n",
    "    gl.glLoadIdentity()\n",
    "    ajuste_intrinsecos_camera(width, height, K)\n",
    "\n",
    "    gl.glMatrixMode(gl.GL_MODELVIEW)\n",
    "    gl.glLoadIdentity()\n",
    "    glu.gluLookAt(0, 0, 5, 0, 0, 0, 0, 1, 0)"
   ]
  },
  {
   "cell_type": "code",
   "execution_count": null,
   "metadata": {},
   "outputs": [],
   "source": []
  },
  {
   "cell_type": "code",
   "execution_count": 3,
   "metadata": {},
   "outputs": [],
   "source": [
    "def background(img):\n",
    "    id_textura = gl.glGenTextures(1)\n",
    "    gl.glBindTexture(gl.GL_TEXTURE_2D, id_textura)\n",
    "\n",
    "    fundo = cv2.cvtColor(img, cv2.COLOR_BGR2RGB)\n",
    "    #fundo = cv2.flip(fundo, 0)\n",
    "    \n",
    "    gl.glTexParameteri(gl.GL_TEXTURE_2D, gl.GL_TEXTURE_MAG_FILTER, gl.GL_LINEAR)\n",
    "    gl.glTexParameteri(gl.GL_TEXTURE_2D, gl.GL_TEXTURE_MIN_FILTER, gl.GL_LINEAR)\n",
    "    gl.glTexImage2D(gl.GL_TEXTURE_2D, 0, gl.GL_RGB, 640, 480, 0, gl.GL_RGB, gl.GL_UNSIGNED_BYTE, fundo)\n",
    "\n",
    "    gl.glDepthMask(gl.GL_FALSE)\n",
    "    gl.glDisable( gl.GL_DEPTH_TEST )\n",
    "\n",
    "    gl.glMatrixMode(gl.GL_PROJECTION)\n",
    "    gl.glLoadIdentity()\n",
    "    gl.glOrtho(0, 640, 480, 0.0, 0.0, 1)\n",
    "    \n",
    "    gl.glEnable( gl.GL_TEXTURE_2D )\n",
    "    gl.glBegin(gl.GL_QUADS)\n",
    "    gl.glTexCoord2f(0, 0); gl.glVertex2f(0, 0)\n",
    "    gl.glTexCoord2f(1, 0); gl.glVertex2f(640, 0)\n",
    "    gl.glTexCoord2f(1, 1); gl.glVertex2f(640, 480)\n",
    "    gl.glTexCoord2f(0, 1); gl.glVertex2f(0, 480)\n",
    "    gl.glEnd()\n",
    "\n",
    "    gl.glBindTexture(gl.GL_TEXTURE_2D, 0)\n",
    "    gl.glEnable( gl.GL_DEPTH_TEST )\n",
    "    gl.glDepthMask(gl.GL_TRUE)\n",
    "\n",
    "    gl.glFlush()\n",
    "    "
   ]
  },
  {
   "cell_type": "code",
   "execution_count": 4,
   "metadata": {},
   "outputs": [],
   "source": [
    "def desenha_pikachus_nas_posicoes(obj, infos_cena_atual):\n",
    "    for posicao, orientacao in infos_cena_atual:   \n",
    "        m = obtem_pose(posicao, orientacao)\n",
    "        gl.glLoadMatrixf(m)\n",
    "        gl.glCallList(obj.gl_list)"
   ]
  },
  {
   "cell_type": "code",
   "execution_count": 5,
   "metadata": {},
   "outputs": [],
   "source": [
    "def cria_e_posiciona_cubo(m):\n",
    "\n",
    "    vertices = (\n",
    "        (1, -1, -1), (1, 1, -1), (-1, 1, -1),\n",
    "        (-1, -1, -1),(1, -1, 1), (1, 1, 1),\n",
    "        (-1, -1, 1), (-1, 1, 1)\n",
    "    )\n",
    "\n",
    "    arestas = (\n",
    "        (2,1), (0,1), (0,3),\n",
    "        (0,4), (2,3), (2,7),\n",
    "        (6,3), (6,4), (6,7),\n",
    "        (5,1), (5,4), (5,7)\n",
    "    )\n",
    "    \n",
    "    gl.glMatrixMode(gl.GL_MODELVIEW)\n",
    "    gl.glLoadIdentity()\n",
    "    gl.glLoadMatrixf(m)\n",
    "\n",
    "    gl.glPushAttrib(gl.GL_CURRENT_BIT)\n",
    "    gl.glLineWidth(4)\n",
    "\n",
    "    gl.glBegin(gl.GL_LINES)\n",
    "    gl.glColor3f(124/255, 252/255, 0)\n",
    "    first_seg = True\n",
    "    for aresta in arestas:\n",
    "        for vertice in aresta:\n",
    "            gl.glVertex3fv(vertices[vertice])\n",
    "            if first_seg:\n",
    "                first_seg = False\n",
    "                gl.glColor3f(124/255, 252/255, 0)\n",
    "            else:\n",
    "                gl.glColor3f(230/255, 0., 126/255)\n",
    "    gl.glEnd()\n",
    "\n",
    "    gl.glMatrixMode(gl.GL_PROJECTION)\n",
    "    gl.glLoadIdentity()\n",
    "    gl.glPopAttrib()\n",
    "    gl.glFlush()"
   ]
  },
  {
   "cell_type": "code",
   "execution_count": 6,
   "metadata": {},
   "outputs": [],
   "source": [
    "def desenha_cubos_nas_posicoes(infos_cena_atual):\n",
    "    for posicao, orientacao in infos_cena_atual:   \n",
    "        m = obtem_pose(posicao, orientacao)\n",
    "        cria_e_posiciona_cubo(m)"
   ]
  },
  {
   "cell_type": "code",
   "execution_count": 7,
   "metadata": {},
   "outputs": [],
   "source": [
    "def renderiza_pikachus(infos_cena_atual, modelo_objeto):    \n",
    "    gl.glMatrixMode(gl.GL_MODELVIEW)\n",
    "    gl.glLoadIdentity()\n",
    "    gl.glEnable(gl.GL_TEXTURE_2D)\n",
    "\n",
    "    desenha_pikachus_nas_posicoes(modelo_objeto, infos_cena_atual)"
   ]
  },
  {
   "cell_type": "code",
   "execution_count": 8,
   "metadata": {},
   "outputs": [],
   "source": [
    "def renderiza_cubos(infos_cena_atual):    \n",
    "    gl.glMatrixMode(gl.GL_MODELVIEW)\n",
    "    gl.glLoadIdentity()\n",
    "    gl.glEnable(gl.GL_TEXTURE_2D)\n",
    "\n",
    "    desenha_cubos_nas_posicoes(infos_cena_atual)"
   ]
  },
  {
   "cell_type": "code",
   "execution_count": 9,
   "metadata": {},
   "outputs": [],
   "source": [
    "def cria_cena(frames, frames_processados, modelo_pikachu):\n",
    "    global frame_index\n",
    "    global render_cubo\n",
    "    global render_pikachu\n",
    "\n",
    "    if frame_index >= len(frames_processados) and not render_pikachu:\n",
    "        render_pikachu = True\n",
    "        render_cubo = False\n",
    "        frame_index = 0\n",
    "\n",
    "    elif frame_index >= len(frames_processados) and render_pikachu:\n",
    "        return\n",
    "\n",
    "    gl.glMatrixMode(gl.GL_MODELVIEW)\n",
    "    gl.glLoadIdentity()\n",
    "    gl.glClear(gl.GL_COLOR_BUFFER_BIT | gl.GL_DEPTH_BUFFER_BIT)\n",
    "\n",
    "    infos_cena_atual = frames_processados[frame_index]\n",
    "\n",
    "    background(frames[frame_index])\n",
    "    gl.glMatrixMode(gl.GL_PROJECTION)\n",
    "    gl.glLoadIdentity() \n",
    "    K, _ = gera_matriz_parametros_intrinsecos()\n",
    "    ajuste_intrinsecos_camera(640, 480, K)\n",
    "\n",
    "    if render_pikachu:\n",
    "        renderiza_pikachus(infos_cena_atual, modelo_pikachu)\n",
    "    else:\n",
    "        renderiza_cubos(infos_cena_atual)\n",
    "\n",
    "    glut.glutSwapBuffers()\n",
    "\n",
    "    time.sleep(1/18) # Valor qualquer pro vídeo nao ficar muito rapido\n",
    "    frame_index = frame_index + 1"
   ]
  },
  {
   "cell_type": "code",
   "execution_count": 10,
   "metadata": {},
   "outputs": [],
   "source": [
    "def idleCallback():\n",
    "    glut.glutPostRedisplay()"
   ]
  },
  {
   "cell_type": "markdown",
   "metadata": {},
   "source": [
    "Lógica para renderização do Pikachu:"
   ]
  },
  {
   "cell_type": "code",
   "execution_count": 11,
   "metadata": {
    "tags": []
   },
   "outputs": [],
   "source": [
    "def realidade_aumentada_pikachu(frames, frames_processados):\n",
    "    dimensoes_frame = (640, 480)\n",
    "\n",
    "    K, _ = gera_matriz_parametros_intrinsecos()\n",
    "\n",
    "    glut.glutInit()\n",
    "    glut.glutInitDisplayMode(glut.GLUT_RGBA | glut.GLUT_DOUBLE)\n",
    "    glut.glutSetOption(glut.GLUT_ACTION_ON_WINDOW_CLOSE, glut.GLUT_ACTION_CONTINUE_EXECUTION)\n",
    "    glut.glutInitWindowSize(*dimensoes_frame)\n",
    "    janela = glut.glutCreateWindow(b'Realidade Aumentada - Pikachu')\n",
    "    \n",
    "    initOpenGL(dimensoes_frame)\n",
    "\n",
    "    global frame_index\n",
    "    frame_index = 0\n",
    "\n",
    "    global render_pikachu\n",
    "    render_pikachu = False\n",
    "\n",
    "    global render_cubo\n",
    "    render_cubo = True\n",
    "\n",
    "    obj = OBJ(\"Pikachu.obj\", swapyz=True)\n",
    "    \n",
    "    display_callback = lambda: cria_cena(frames, frames_processados, obj)\n",
    "    reshape_callback = lambda w, h: resize_view(w, h, K)\n",
    "\n",
    "    glut.glutDisplayFunc(display_callback)\n",
    "    glut.glutReshapeFunc(reshape_callback)\n",
    "    glut.glutIdleFunc(idleCallback)\n",
    "    glut.glutMainLoop()"
   ]
  },
  {
   "cell_type": "code",
   "execution_count": 12,
   "metadata": {},
   "outputs": [
    {
     "ename": "NameError",
     "evalue": "name 'obtem_alvo' is not defined",
     "output_type": "error",
     "traceback": [
      "\u001b[0;31m---------------------------------------------------------------------------\u001b[0m",
      "\u001b[0;31mNameError\u001b[0m                                 Traceback (most recent call last)",
      "\u001b[0;32m<ipython-input-12-fcb515f15cca>\u001b[0m in \u001b[0;36m<module>\u001b[0;34m\u001b[0m\n\u001b[0;32m----> 1\u001b[0;31m \u001b[0malvo\u001b[0m\u001b[0;34m,\u001b[0m \u001b[0mcantos_alvo\u001b[0m \u001b[0;34m=\u001b[0m \u001b[0mobtem_alvo\u001b[0m\u001b[0;34m(\u001b[0m\u001b[0;34m)\u001b[0m\u001b[0;34m\u001b[0m\u001b[0;34m\u001b[0m\u001b[0m\n\u001b[0m\u001b[1;32m      2\u001b[0m \u001b[0mframes\u001b[0m \u001b[0;34m=\u001b[0m \u001b[0mcaptura_frames\u001b[0m\u001b[0;34m(\u001b[0m\u001b[0;34m)\u001b[0m\u001b[0;34m\u001b[0m\u001b[0;34m\u001b[0m\u001b[0m\n\u001b[1;32m      3\u001b[0m \u001b[0mmapa_rotacao\u001b[0m\u001b[0;34m,\u001b[0m \u001b[0mmapa_coordenada\u001b[0m \u001b[0;34m=\u001b[0m \u001b[0mgera_mapa_rotacoes_alvo\u001b[0m\u001b[0;34m(\u001b[0m\u001b[0malvo\u001b[0m\u001b[0;34m)\u001b[0m\u001b[0;34m\u001b[0m\u001b[0;34m\u001b[0m\u001b[0m\n\u001b[1;32m      4\u001b[0m \u001b[0mframes_processados\u001b[0m \u001b[0;34m=\u001b[0m \u001b[0mprocessa_frames\u001b[0m\u001b[0;34m(\u001b[0m\u001b[0mframes\u001b[0m\u001b[0;34m,\u001b[0m \u001b[0malvo\u001b[0m\u001b[0;34m,\u001b[0m \u001b[0mmapa_rotacao\u001b[0m\u001b[0;34m)\u001b[0m\u001b[0;34m\u001b[0m\u001b[0;34m\u001b[0m\u001b[0m\n",
      "\u001b[0;31mNameError\u001b[0m: name 'obtem_alvo' is not defined"
     ]
    }
   ],
   "source": [
    "alvo, cantos_alvo = obtem_alvo()\n",
    "frames = captura_frames()\n",
    "mapa_rotacao, mapa_coordenada = gera_mapa_rotacoes_alvo(alvo)\n",
    "frames_processados = processa_frames(frames, alvo, mapa_rotacao)"
   ]
  },
  {
   "cell_type": "code",
   "execution_count": 13,
   "metadata": {
    "tags": []
   },
   "outputs": [
    {
     "ename": "NameError",
     "evalue": "name 'frames' is not defined",
     "output_type": "error",
     "traceback": [
      "\u001b[0;31m---------------------------------------------------------------------------\u001b[0m",
      "\u001b[0;31mNameError\u001b[0m                                 Traceback (most recent call last)",
      "\u001b[0;32m<ipython-input-13-5b6ff8299cb3>\u001b[0m in \u001b[0;36m<module>\u001b[0;34m\u001b[0m\n\u001b[0;32m----> 1\u001b[0;31m \u001b[0mrealidade_aumentada_pikachu\u001b[0m\u001b[0;34m(\u001b[0m\u001b[0mframes\u001b[0m\u001b[0;34m,\u001b[0m \u001b[0mframes_processados\u001b[0m\u001b[0;34m)\u001b[0m\u001b[0;34m\u001b[0m\u001b[0;34m\u001b[0m\u001b[0m\n\u001b[0m",
      "\u001b[0;31mNameError\u001b[0m: name 'frames' is not defined"
     ]
    }
   ],
   "source": [
    "realidade_aumentada_pikachu(frames, frames_processados)"
   ]
  },
  {
   "cell_type": "code",
   "execution_count": 25,
   "metadata": {},
   "outputs": [],
   "source": [
    "alvo, cantos_alvo = obtem_alvo()\n",
    "frames = captura_frames()\n",
    "mapa_rotacao, mapa_coordenada = gera_mapa_rotacoes_alvo(alvo)\n",
    "frames_processados = processa_frames(frames, alvo, mapa_rotacao)"
   ]
  },
  {
   "cell_type": "code",
   "execution_count": null,
   "metadata": {},
   "outputs": [],
   "source": []
  }
 ],
 "metadata": {
  "kernelspec": {
   "display_name": "Python 3",
   "language": "python",
   "name": "python3"
  },
  "language_info": {
   "codemirror_mode": {
    "name": "ipython",
    "version": 3
   },
   "file_extension": ".py",
   "mimetype": "text/x-python",
   "name": "python",
   "nbconvert_exporter": "python",
   "pygments_lexer": "ipython3",
   "version": "3.8.3"
  }
 },
 "nbformat": 4,
 "nbformat_minor": 2
}

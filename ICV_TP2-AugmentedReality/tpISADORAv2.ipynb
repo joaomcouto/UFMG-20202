{
 "cells": [
  {
   "cell_type": "markdown",
   "metadata": {},
   "source": [
    "# Trabalho Prático 2 - Introdução à Computação Visual "
   ]
  },
  {
   "cell_type": "markdown",
   "metadata": {},
   "source": [
    "### Isadora Cristina"
   ]
  },
  {
   "cell_type": "code",
   "execution_count": 1,
   "metadata": {},
   "outputs": [],
   "source": [
    "import numpy as np\n",
    "import matplotlib.pyplot as plt\n",
    "import numpy as np\n",
    "import OpenGL.GLU as glu\n",
    "import OpenGL.GL as gl\n",
    "import OpenGL.GLUT as glut\n",
    "import cv2"
   ]
  },
  {
   "cell_type": "markdown",
   "metadata": {},
   "source": [
    "### 1. Calibração da câmera"
   ]
  },
  {
   "cell_type": "code",
   "execution_count": 2,
   "metadata": {},
   "outputs": [],
   "source": [
    "# A calibração da câmera foi feita pelo Matlab \n",
    "# De forma semelhante à atividade prática, foi usada a ferramenta \"Camera Calibration Toolbox for Matlab\"\n",
    "# Link do tutorial usado: http://www.vision.caltech.edu/bouguetj/calib_doc/htmls/example.html\n",
    "# Como foi passado um vídeo, foram retirados deles frames em momentos arbitrários\n",
    "# Assim, obtivemos sobre os parâmetros:\n",
    "\n",
    "# focal length\n",
    "foc_len = [884.21764, 895.52706]\n",
    "# principal point\n",
    "prin_pon = [511.15701, 389.61393]\n",
    "# distortion\n",
    "distortion = [0.07162, -0.21749, -0.01365, 0.00146, 0.0]"
   ]
  },
  {
   "cell_type": "code",
   "execution_count": 3,
   "metadata": {},
   "outputs": [
    {
     "data": {
      "text/plain": [
       "array([[884.21764,   0.     , 320.     ],\n",
       "       [  0.     , 895.52706, 240.     ],\n",
       "       [  0.     ,   0.     ,   1.     ]])"
      ]
     },
     "execution_count": 3,
     "metadata": {},
     "output_type": "execute_result"
    }
   ],
   "source": [
    "# Agora podemos criar a matriz de parâmetros intrínsecos\n",
    "mat_int = np.array([[foc_len[0], 0.0, 320], [0.0, foc_len[1], 240], [0.0, 0.0, 1.0]])\n",
    "\n",
    "mat_int"
   ]
  },
  {
   "cell_type": "markdown",
   "metadata": {},
   "source": [
    "### 2. Detecção e Localização da Posição e Orientação do Alvo em cada Frame "
   ]
  },
  {
   "cell_type": "code",
   "execution_count": 4,
   "metadata": {},
   "outputs": [
    {
     "name": "stdout",
     "output_type": "stream",
     "text": [
      "Quantidade de frames obtidos: 1100\n"
     ]
    }
   ],
   "source": [
    "# Leitura do vídeo de entrada\n",
    "video = cv2.VideoCapture('entrada.mp4')\n",
    "frames = []\n",
    "# Obtenção dos frames\n",
    "while video.isOpened():\n",
    "    ret, frame = video.read()\n",
    "    if ret == False:\n",
    "        break\n",
    "    else:\n",
    "        frames.append(frame)\n",
    "        \n",
    "print(\"Quantidade de frames obtidos:\", len(frames))"
   ]
  },
  {
   "cell_type": "code",
   "execution_count": 5,
   "metadata": {},
   "outputs": [
    {
     "data": {
      "image/png": "[encoded data removed]",
      "text/plain": [
       "<Figure size 216x216 with 1 Axes>"
      ]
     },
     "metadata": {},
     "output_type": "display_data"
    }
   ],
   "source": [
    "# Agora vamos ler o alvo\n",
    "target0 = cv2.imread('alvo.jpg', 0)\n",
    "\n",
    "# Binarizamos o alvo para facilitar o processamento\n",
    "_, target0 = cv2.threshold(target0, 80, 255, cv2.THRESH_BINARY)\n",
    "\n",
    "plt.figure(figsize = (3,3))\n",
    "plt.imshow(target0, cmap='gray'); \n",
    "plt.title('0º')\n",
    "plt.xticks([]); \n",
    "plt.yticks([])\n",
    "plt.show()"
   ]
  },
  {
   "cell_type": "code",
   "execution_count": 6,
   "metadata": {},
   "outputs": [
    {
     "data": {
      "text/plain": [
       "([], [])"
      ]
     },
     "execution_count": 6,
     "metadata": {},
     "output_type": "execute_result"
    },
    {
     "data": {
      "image/png": "[encoded data removed]",
      "text/plain": [
       "<Figure size 216x216 with 1 Axes>"
      ]
     },
     "metadata": {},
     "output_type": "display_data"
    },
    {
     "data": {
      "image/png": "[encoded data removed]",
      "text/plain": [
       "<Figure size 216x216 with 1 Axes>"
      ]
     },
     "metadata": {},
     "output_type": "display_data"
    },
    {
     "data": {
      "image/png": "[encoded data removed]",
      "text/plain": [
       "<Figure size 216x216 with 1 Axes>"
      ]
     },
     "metadata": {},
     "output_type": "display_data"
    }
   ],
   "source": [
    "# Com o alvo em mãos, vamos achar as suas rotações de 90°\n",
    "target90 = cv2.rotate(target0, cv2.ROTATE_90_CLOCKWISE) # 90°\n",
    "target180 = cv2.rotate(target0, cv2.ROTATE_180) # 180°\n",
    "target270 = cv2.rotate(target0, cv2.ROTATE_90_COUNTERCLOCKWISE) # 270°\n",
    "\n",
    "plt.figure(figsize = (3,3))\n",
    "plt.imshow(target90, cmap='gray')\n",
    "plt.title('90º')\n",
    "plt.xticks([]); \n",
    "plt.yticks([])\n",
    "plt.figure(figsize = (3,3))\n",
    "plt.imshow(target180, cmap='gray')\n",
    "plt.title('180º')\n",
    "plt.xticks([]); \n",
    "plt.yticks([])\n",
    "plt.figure(figsize = (3,3))\n",
    "plt.imshow(target270, cmap='gray')\n",
    "plt.title('270º')\n",
    "plt.xticks([]); \n",
    "plt.yticks([])"
   ]
  },
  {
   "cell_type": "code",
   "execution_count": 7,
   "metadata": {},
   "outputs": [],
   "source": [
    "# Definimos coordenadas arbitrárias de forma a indetificar cada orientação\n",
    "p1 = [-1, -1, 0]\n",
    "p2 = [1, -1, 0]\n",
    "p3 = [1, 1, 0]\n",
    "p4 = [-1, 1, 0]\n",
    "\n",
    "coords = []\n",
    "\n",
    "coords.append(np.float32([p4, p1, p2, p3])) # 0°\n",
    "coords.append(np.float32([p1, p2, p3, p4])) # 90°\n",
    "coords.append(np.float32([p2, p3, p4, p1])) # 180°\n",
    "coords.append(np.float32([p3, p4, p1, p2])) # 270°\n",
    "\n",
    "# Criamos uma lista com os targets para facilitar\n",
    "targets = []\n",
    "\n",
    "targets.append(target0)\n",
    "targets.append(target90)\n",
    "targets.append(target180)\n",
    "targets.append(target270)"
   ]
  },
  {
   "cell_type": "code",
   "execution_count": 8,
   "metadata": {},
   "outputs": [
    {
     "data": {
      "image/png": "[encoded data removed]",
      "text/plain": [
       "<Figure size 288x288 with 1 Axes>"
      ]
     },
     "metadata": {},
     "output_type": "display_data"
    }
   ],
   "source": [
    "# Para efeito de visualização de como os frames serão tratador\n",
    "# Vamos fazer cada passo com apenas 1 frame e plotar os resultados\n",
    "# Queremos destacar os contornos para achar polígonos em seguida\n",
    "def treat_color(frame):\n",
    "    # Deixamos cada frame com tons de cinza\n",
    "    gray = cv2.cvtColor(frame, cv2.COLOR_BGR2GRAY)\n",
    "    # Fazemos a binarização\n",
    "    _, binary = cv2.threshold(gray, 127, 255, cv2.THRESH_BINARY)\n",
    "    # Extraímos as bordas\n",
    "    frame = cv2.Canny(binary, 60, 100)\n",
    "    # Encontra os contornos    \n",
    "    contour, _ = cv2.findContours(frame, cv2.RETR_EXTERNAL, cv2.CHAIN_APPROX_NONE)\n",
    "    return frame, contour, gray, binary\n",
    "\n",
    "sample, contours, gray, binary = treat_color(frames[7])\n",
    "\n",
    "plt.figure(figsize = (4,4))\n",
    "plt.imshow(sample,cmap = 'gray')\n",
    "plt.xticks([]); \n",
    "plt.yticks([])\n",
    "plt.show()"
   ]
  },
  {
   "cell_type": "code",
   "execution_count": 9,
   "metadata": {},
   "outputs": [
    {
     "data": {
      "text/plain": [
       "[array([[[419, 280]],\n",
       " \n",
       "        [[391, 318]],\n",
       " \n",
       "        [[437, 351]],\n",
       " \n",
       "        [[465, 312]]], dtype=int32),\n",
       " array([[[183, 223]],\n",
       " \n",
       "        [[142, 233]],\n",
       " \n",
       "        [[143, 271]],\n",
       " \n",
       "        [[186, 261]]], dtype=int32),\n",
       " array([[[340, 176]],\n",
       " \n",
       "        [[340, 178]],\n",
       " \n",
       "        [[342, 178]],\n",
       " \n",
       "        [[342, 176]]], dtype=int32),\n",
       " array([[[324, 155]],\n",
       " \n",
       "        [[324, 157]],\n",
       " \n",
       "        [[326, 157]],\n",
       " \n",
       "        [[326, 155]]], dtype=int32),\n",
       " array([[[373,  91]],\n",
       " \n",
       "        [[346, 128]],\n",
       " \n",
       "        [[386, 146]],\n",
       " \n",
       "        [[411, 109]]], dtype=int32)]"
      ]
     },
     "execution_count": 9,
     "metadata": {},
     "output_type": "execute_result"
    }
   ],
   "source": [
    "# Com os contorno obtidos, seguimos para fazer a identificação de polígonos\n",
    "def find_polygons(frame, contours):\n",
    "    tetra = []\n",
    "    # Criamos poligono com os contorno obtidos na função acima\n",
    "    for contour in contours:\n",
    "        perimeter = cv2.arcLength(contour, True)\n",
    "        polygon = cv2.approxPolyDP(contour, 0.015*perimeter, True)\n",
    "        if len(polygon) == 4 and cv2.isContourConvex(polygon):\n",
    "            tetra.append(polygon)\n",
    "    return tetra\n",
    "\n",
    "tetra = find_polygons(sample, contours)\n",
    "tetra"
   ]
  },
  {
   "cell_type": "code",
   "execution_count": 10,
   "metadata": {},
   "outputs": [],
   "source": [
    "# Agora vamos achar a matriz de homografia\n",
    "def homography(tetras, frame):\n",
    "    height, width = targets[0].shape\n",
    "    corners = np.float32([[0,0], [0, height], [width, height], [width, 0]])\n",
    "    poly = []\n",
    "    direction = []\n",
    "    for tetra in tetras:\n",
    "        m_homography, _ = cv2.findHomography(np.float32(tetra), corners, cv2.RANSAC)\n",
    "        result = cv2.warpPerspective(frame, m_homography, targets[0].shape)           \n",
    "        min_error = 99999\n",
    "        min_position = None\n",
    "\n",
    "        # compara com as 4 orientações do alvo\n",
    "        for i in range(0, len(targets)):\n",
    "            curr = np.sum(np.abs(result - targets[i])) / (result.size)\n",
    "            if curr < min_error:\n",
    "                min_error = curr\n",
    "                min_position = i                  \n",
    "\n",
    "        # Define-se como 'match' os candidatos que obtiveram erro menor do que 20\n",
    "        if min_error < 40:\n",
    "            poly.append(tetra)\n",
    "            direction.append(min_position)\n",
    "            \n",
    "    return poly, direction"
   ]
  },
  {
   "cell_type": "code",
   "execution_count": 11,
   "metadata": {},
   "outputs": [
    {
     "data": {
      "text/plain": [
       "<matplotlib.image.AxesImage at 0x7fc12fa4c340>"
      ]
     },
     "execution_count": 11,
     "metadata": {},
     "output_type": "execute_result"
    },
    {
     "data": {
      "image/png": "[encoded data removed]",
      "text/plain": [
       "<Figure size 432x288 with 1 Axes>"
      ]
     },
     "metadata": {
      "needs_background": "light"
     },
     "output_type": "display_data"
    }
   ],
   "source": [
    "# Vamos testar a detecção  de alvos em um frame\n",
    "poly, direction = homography(tetra, binary)\n",
    "highlight = cv2.drawContours(frames[7], poly, -1, (0,255,0), 3)\n",
    "plt.imshow(highlight)"
   ]
  },
  {
   "cell_type": "code",
   "execution_count": 12,
   "metadata": {},
   "outputs": [],
   "source": [
    "# Enfim, vamos aplicar todos os passos feitos acima para todos os frames\n",
    "poly = []\n",
    "direction = [] \n",
    "\n",
    "for f in frames:\n",
    "    sample, contours, gray, binary = treat_color(f)\n",
    "    tetras = []\n",
    "    tetras = find_polygons(f, contours)\n",
    "   \n",
    "    temp1, temp2 = homography(tetras, binary)\n",
    "    \n",
    "    poly.append(temp1)\n",
    "    direction.append(temp2)\n"
   ]
  },
  {
   "cell_type": "markdown",
   "metadata": {},
   "source": [
    "### 3. Obteção dos Parâmetros Extrínsecos"
   ]
  },
  {
   "cell_type": "code",
   "execution_count": null,
   "metadata": {},
   "outputs": [],
   "source": []
  },
  {
   "cell_type": "code",
   "execution_count": null,
   "metadata": {},
   "outputs": [],
   "source": []
  },
  {
   "cell_type": "code",
   "execution_count": null,
   "metadata": {},
   "outputs": [],
   "source": []
  },
  {
   "cell_type": "markdown",
   "metadata": {},
   "source": [
    "### 4."
   ]
  },
  {
   "cell_type": "code",
   "execution_count": null,
   "metadata": {},
   "outputs": [],
   "source": []
  }
 ],
 "metadata": {
  "colab": {
   "name": "Exemplo PyClustering.ipynb",
   "provenance": [],
   "toc_visible": true
  },
  "kernelspec": {
   "display_name": "Python 3",
   "language": "python",
   "name": "python3"
  },
  "language_info": {
   "codemirror_mode": {
    "name": "ipython",
    "version": 3
   },
   "file_extension": ".py",
   "mimetype": "text/x-python",
   "name": "python",
   "nbconvert_exporter": "python",
   "pygments_lexer": "ipython3",
   "version": "3.8.3"
  }
 },
 "nbformat": 4,
 "nbformat_minor": 1
}
